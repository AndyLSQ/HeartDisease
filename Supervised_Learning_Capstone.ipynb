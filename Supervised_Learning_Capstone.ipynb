{
  "nbformat": 4,
  "nbformat_minor": 0,
  "metadata": {
    "colab": {
      "name": "Supervised Learning Capstone.ipynb",
      "provenance": [],
      "collapsed_sections": [
        "_fpXvaeus3c_",
        "8p3cyWD_53iq",
        "IKT7uu7F7wbC",
        "SIw6m8iV5FGo",
        "JyGwfPmSTh6a",
        "ysORUYHt_700",
        "8fyQ7LC_0lTZ"
      ],
      "authorship_tag": "ABX9TyNmh/DnkEdUICjEmgc3pgJJ",
      "include_colab_link": true
    },
    "kernelspec": {
      "name": "python3",
      "display_name": "Python 3"
    }
  },
  "cells": [
    {
      "cell_type": "markdown",
      "metadata": {
        "id": "view-in-github",
        "colab_type": "text"
      },
      "source": [
        "<a href=\"https://colab.research.google.com/github/aeliscu/HeartDisease/blob/main/Supervised_Learning_Capstone.ipynb\" target=\"_parent\"><img src=\"https://colab.research.google.com/assets/colab-badge.svg\" alt=\"Open In Colab\"/></a>"
      ]
    },
    {
      "cell_type": "markdown",
      "metadata": {
        "id": "WVaO1QZtieMc"
      },
      "source": [
        "#I. Introduction"
      ]
    },
    {
      "cell_type": "markdown",
      "metadata": {
        "id": "t1AYHbsMp-9I"
      },
      "source": [
        "According to the Center for Disease Control, heart disease is the leading cause of mortality in the United States, accounting for nearly a quarter of all deaths*. By understanding which diagnostics and symptoms are most indicative of disease, we may be able to accelerate diagnosis and treatment.\n",
        "\n",
        "*https://www.cdc.gov/heartdisease/facts.htm"
      ]
    },
    {
      "cell_type": "markdown",
      "metadata": {
        "id": "QilUaSdMKVE5"
      },
      "source": [
        "###Hypothesis\n",
        "With the selected model, we'll be able to predict heart disease with higher accuracy.\n",
        "\n"
      ]
    },
    {
      "cell_type": "markdown",
      "metadata": {
        "id": "DaXj3ldzstPy"
      },
      "source": [
        "##1. The Data"
      ]
    },
    {
      "cell_type": "markdown",
      "metadata": {
        "id": "3x7FVFPNs1P2"
      },
      "source": [
        "This dataset, obtained from Kaggle, was originally published in the UCI Machine Learning Repository, and contains data from 303 patients of Dr. Robert Detrano at the V.A. Medical Center, Long Beach and Cleveland Clinic Foundation.\n",
        "\n",
        "Link: https://www.kaggle.com/ronitf/heart-disease-uci\n",
        "\n",
        "The data consists of basic demographic information, patient symptoms, and diagnostic measurements, as detailed below."
      ]
    },
    {
      "cell_type": "markdown",
      "metadata": {
        "id": "_fpXvaeus3c_"
      },
      "source": [
        "###A. Variables & Explanation"
      ]
    },
    {
      "cell_type": "markdown",
      "metadata": {
        "id": "gHCDtxNWs_gP"
      },
      "source": [
        "1. age: age in years\n",
        "2. sex: sex (1 = male; 0 = female)\n",
        "3. cp: chest pain type\n",
        "    - - Value 0: typical angina\n",
        "    - - Value 1: atypical angina\n",
        "    - - Value 2: non-anginal pain\n",
        "    - - Value 3: asymptomatic\n",
        "4. trestbps: resting blood pressure (in mm Hg on admission to the hospital)\n",
        "5. chol: serum cholesterol in mg/dl (blood cholesterol including HDL, LDL and\n",
        "6. fbs: (fasting blood sugar > 120 mg/dl) (1 = true; 0 = false)\n",
        "7. restecg: resting electrocardiographic results (values 0,1,2)\n",
        "8. thalach: maximum heart rate achieved\n",
        "9. exang: exercise induced angina (1 = yes; 0 = no)\n",
        "10. oldpeak = ST depression induced by exercise relative to rest\n",
        "11. slope: the slope of the peak exercise ST segment\n",
        "    - - Value 1: upsloping\n",
        "    - - Value 2: flat\n",
        "    - - Value 3: downsloping\n",
        "12. ca: number of major vessels (0-3) colored by flourosopy\n",
        "13. thal: 3 = normal; 6 = fixed defect; 7 = reversable defect\n",
        "14. target: diagnosis of heart disease (angiographic disease status)\n",
        "    - - Value 0: < 50% diameter narrowing (No Heart Disease)\n",
        "    - - Value 1: > 50% diameter narrowing (Heart Disease)"
      ]
    },
    {
      "cell_type": "markdown",
      "metadata": {
        "id": "A2mWUO442zF_"
      },
      "source": [
        "#II. Setup and EDA"
      ]
    },
    {
      "cell_type": "markdown",
      "metadata": {
        "id": "ZBW8FtZw27MV"
      },
      "source": [
        "##1. Set Up Environment & Import Data"
      ]
    },
    {
      "cell_type": "code",
      "metadata": {
        "id": "-MSV_fe2s9NC"
      },
      "source": [
        "import numpy as np\n",
        "import pandas as pd\n",
        "import matplotlib.pyplot as plt\n",
        "import seaborn as sns\n",
        "import scipy as sp\n",
        "from sklearn.model_selection import train_test_split\n",
        "from sklearn.metrics import confusion_matrix, accuracy_score, precision_score, recall_score, f1_score, fbeta_score, classification_report, roc_auc_score\n",
        "from sklearn.model_selection import cross_val_score\n",
        "\n",
        "\n",
        "%matplotlib inline"
      ],
      "execution_count": null,
      "outputs": []
    },
    {
      "cell_type": "code",
      "metadata": {
        "id": "QicTUVVkhTqV",
        "colab": {
          "resources": {
            "http://localhost:8080/nbextensions/google.colab/files.js": {
              "data": "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",
              "ok": true,
              "headers": [
                [
                  "content-type",
                  "application/javascript"
                ]
              ],
              "status": 200,
              "status_text": ""
            }
          },
          "base_uri": "https://localhost:8080/",
          "height": 65
        },
        "outputId": "742768e9-9c97-4387-bf7f-013536848da2"
      },
      "source": [
        "from google.colab import files\n",
        "data_to_load = files.upload()\n",
        "#upload heart.csv from capstone folder"
      ],
      "execution_count": null,
      "outputs": [
        {
          "output_type": "display_data",
          "data": {
            "text/html": [
              "\n",
              "     <input type=\"file\" id=\"files-2f3ba898-383b-43a5-bd18-f9ee9d23568c\" name=\"files[]\" multiple disabled\n",
              "        style=\"border:none\" />\n",
              "     <output id=\"result-2f3ba898-383b-43a5-bd18-f9ee9d23568c\">\n",
              "      Upload widget is only available when the cell has been executed in the\n",
              "      current browser session. Please rerun this cell to enable.\n",
              "      </output>\n",
              "      <script src=\"/nbextensions/google.colab/files.js\"></script> "
            ],
            "text/plain": [
              "<IPython.core.display.HTML object>"
            ]
          },
          "metadata": {
            "tags": []
          }
        },
        {
          "output_type": "stream",
          "text": [
            "Saving heart.csv to heart (1).csv\n"
          ],
          "name": "stdout"
        }
      ]
    },
    {
      "cell_type": "code",
      "metadata": {
        "id": "o63X1Sa44KSV"
      },
      "source": [
        "import io\n",
        "heart_df = pd.read_csv(io.BytesIO(data_to_load['heart.csv']))"
      ],
      "execution_count": null,
      "outputs": []
    },
    {
      "cell_type": "code",
      "metadata": {
        "colab": {
          "base_uri": "https://localhost:8080/",
          "height": 201
        },
        "id": "v3-0zolT4eOY",
        "outputId": "6759073e-5793-405b-e92b-15c95881c2bf"
      },
      "source": [
        "heart_df.head()"
      ],
      "execution_count": null,
      "outputs": [
        {
          "output_type": "execute_result",
          "data": {
            "text/html": [
              "<div>\n",
              "<style scoped>\n",
              "    .dataframe tbody tr th:only-of-type {\n",
              "        vertical-align: middle;\n",
              "    }\n",
              "\n",
              "    .dataframe tbody tr th {\n",
              "        vertical-align: top;\n",
              "    }\n",
              "\n",
              "    .dataframe thead th {\n",
              "        text-align: right;\n",
              "    }\n",
              "</style>\n",
              "<table border=\"1\" class=\"dataframe\">\n",
              "  <thead>\n",
              "    <tr style=\"text-align: right;\">\n",
              "      <th></th>\n",
              "      <th>age</th>\n",
              "      <th>sex</th>\n",
              "      <th>cp</th>\n",
              "      <th>trestbps</th>\n",
              "      <th>chol</th>\n",
              "      <th>fbs</th>\n",
              "      <th>restecg</th>\n",
              "      <th>thalach</th>\n",
              "      <th>exang</th>\n",
              "      <th>oldpeak</th>\n",
              "      <th>slope</th>\n",
              "      <th>ca</th>\n",
              "      <th>thal</th>\n",
              "      <th>target</th>\n",
              "    </tr>\n",
              "  </thead>\n",
              "  <tbody>\n",
              "    <tr>\n",
              "      <th>0</th>\n",
              "      <td>63</td>\n",
              "      <td>1</td>\n",
              "      <td>3</td>\n",
              "      <td>145</td>\n",
              "      <td>233</td>\n",
              "      <td>1</td>\n",
              "      <td>0</td>\n",
              "      <td>150</td>\n",
              "      <td>0</td>\n",
              "      <td>2.3</td>\n",
              "      <td>0</td>\n",
              "      <td>0</td>\n",
              "      <td>1</td>\n",
              "      <td>1</td>\n",
              "    </tr>\n",
              "    <tr>\n",
              "      <th>1</th>\n",
              "      <td>37</td>\n",
              "      <td>1</td>\n",
              "      <td>2</td>\n",
              "      <td>130</td>\n",
              "      <td>250</td>\n",
              "      <td>0</td>\n",
              "      <td>1</td>\n",
              "      <td>187</td>\n",
              "      <td>0</td>\n",
              "      <td>3.5</td>\n",
              "      <td>0</td>\n",
              "      <td>0</td>\n",
              "      <td>2</td>\n",
              "      <td>1</td>\n",
              "    </tr>\n",
              "    <tr>\n",
              "      <th>2</th>\n",
              "      <td>41</td>\n",
              "      <td>0</td>\n",
              "      <td>1</td>\n",
              "      <td>130</td>\n",
              "      <td>204</td>\n",
              "      <td>0</td>\n",
              "      <td>0</td>\n",
              "      <td>172</td>\n",
              "      <td>0</td>\n",
              "      <td>1.4</td>\n",
              "      <td>2</td>\n",
              "      <td>0</td>\n",
              "      <td>2</td>\n",
              "      <td>1</td>\n",
              "    </tr>\n",
              "    <tr>\n",
              "      <th>3</th>\n",
              "      <td>56</td>\n",
              "      <td>1</td>\n",
              "      <td>1</td>\n",
              "      <td>120</td>\n",
              "      <td>236</td>\n",
              "      <td>0</td>\n",
              "      <td>1</td>\n",
              "      <td>178</td>\n",
              "      <td>0</td>\n",
              "      <td>0.8</td>\n",
              "      <td>2</td>\n",
              "      <td>0</td>\n",
              "      <td>2</td>\n",
              "      <td>1</td>\n",
              "    </tr>\n",
              "    <tr>\n",
              "      <th>4</th>\n",
              "      <td>57</td>\n",
              "      <td>0</td>\n",
              "      <td>0</td>\n",
              "      <td>120</td>\n",
              "      <td>354</td>\n",
              "      <td>0</td>\n",
              "      <td>1</td>\n",
              "      <td>163</td>\n",
              "      <td>1</td>\n",
              "      <td>0.6</td>\n",
              "      <td>2</td>\n",
              "      <td>0</td>\n",
              "      <td>2</td>\n",
              "      <td>1</td>\n",
              "    </tr>\n",
              "  </tbody>\n",
              "</table>\n",
              "</div>"
            ],
            "text/plain": [
              "   age  sex  cp  trestbps  chol  fbs  ...  exang  oldpeak  slope  ca  thal  target\n",
              "0   63    1   3       145   233    1  ...      0      2.3      0   0     1       1\n",
              "1   37    1   2       130   250    0  ...      0      3.5      0   0     2       1\n",
              "2   41    0   1       130   204    0  ...      0      1.4      2   0     2       1\n",
              "3   56    1   1       120   236    0  ...      0      0.8      2   0     2       1\n",
              "4   57    0   0       120   354    0  ...      1      0.6      2   0     2       1\n",
              "\n",
              "[5 rows x 14 columns]"
            ]
          },
          "metadata": {
            "tags": []
          },
          "execution_count": 37
        }
      ]
    },
    {
      "cell_type": "markdown",
      "metadata": {
        "id": "U2e-tyva5Aj8"
      },
      "source": [
        "##2. Exploratory Data Analysis"
      ]
    },
    {
      "cell_type": "markdown",
      "metadata": {
        "id": "8p3cyWD_53iq"
      },
      "source": [
        "###A. Data Cleaning- Variable Types & Missing Values"
      ]
    },
    {
      "cell_type": "code",
      "metadata": {
        "colab": {
          "base_uri": "https://localhost:8080/"
        },
        "id": "hayjmaJJ4hiN",
        "outputId": "53df2274-3383-4598-b13c-ee20377d00e6"
      },
      "source": [
        "heart_df.info()"
      ],
      "execution_count": null,
      "outputs": [
        {
          "output_type": "stream",
          "text": [
            "<class 'pandas.core.frame.DataFrame'>\n",
            "RangeIndex: 303 entries, 0 to 302\n",
            "Data columns (total 14 columns):\n",
            " #   Column    Non-Null Count  Dtype  \n",
            "---  ------    --------------  -----  \n",
            " 0   age       303 non-null    int64  \n",
            " 1   sex       303 non-null    int64  \n",
            " 2   cp        303 non-null    int64  \n",
            " 3   trestbps  303 non-null    int64  \n",
            " 4   chol      303 non-null    int64  \n",
            " 5   fbs       303 non-null    int64  \n",
            " 6   restecg   303 non-null    int64  \n",
            " 7   thalach   303 non-null    int64  \n",
            " 8   exang     303 non-null    int64  \n",
            " 9   oldpeak   303 non-null    float64\n",
            " 10  slope     303 non-null    int64  \n",
            " 11  ca        303 non-null    int64  \n",
            " 12  thal      303 non-null    int64  \n",
            " 13  target    303 non-null    int64  \n",
            "dtypes: float64(1), int64(13)\n",
            "memory usage: 33.3 KB\n"
          ],
          "name": "stdout"
        }
      ]
    },
    {
      "cell_type": "code",
      "metadata": {
        "colab": {
          "base_uri": "https://localhost:8080/"
        },
        "id": "UEhtx0nqNHDC",
        "outputId": "c89fb30f-866d-4638-8915-6af842cb716b"
      },
      "source": [
        "heart_df[('target')].value_counts()"
      ],
      "execution_count": null,
      "outputs": [
        {
          "output_type": "execute_result",
          "data": {
            "text/plain": [
              "1    165\n",
              "0    138\n",
              "Name: target, dtype: int64"
            ]
          },
          "metadata": {
            "tags": []
          },
          "execution_count": 39
        }
      ]
    },
    {
      "cell_type": "markdown",
      "metadata": {
        "id": "VVuY9RPJ6FJ_"
      },
      "source": [
        "The dataset does not have missing or null values, therefore imputation and/or deletion are not necessary at this stage. Data types appear appropriate for all features."
      ]
    },
    {
      "cell_type": "markdown",
      "metadata": {
        "id": "IKT7uu7F7wbC"
      },
      "source": [
        "###B. Data Cleaning- Outlier Detection\n",
        "\n",
        "\n",
        "Excluding measures that are categorical in nature (even if they are represented numerically), I will visually inspect for outliers using boxplots on the following measures: age, trestbps, chol, thalach, oldpeak."
      ]
    },
    {
      "cell_type": "code",
      "metadata": {
        "colab": {
          "base_uri": "https://localhost:8080/",
          "height": 69
        },
        "id": "SdcsFCDd527A",
        "outputId": "1a746ef6-f7ce-45d6-e1ac-de90c93fdffe"
      },
      "source": [
        "plt.figure(figsize=(20,15))\n",
        "\n",
        "plt.subplot(2,3,1)\n",
        "plt.boxplot(heart_df['age'])\n",
        "plt.title('Age')\n",
        "\n",
        "plt.subplot(2,3,2)\n",
        "plt.boxplot(heart_df['trestbps'])\n",
        "plt.title('Resting Blood Pressure')\n",
        "\n",
        "plt.subplot(2,3,3)\n",
        "plt.boxplot(heart_df['chol'])\n",
        "plt.title('Serum Cholesterol (mg/dl)')\n",
        "\n",
        "plt.subplot(2,3,4)\n",
        "plt.boxplot(heart_df['thalach'])\n",
        "plt.title('Max Heart Rate')\n",
        "\n",
        "plt.subplot(2,3,5)\n",
        "plt.boxplot(heart_df['oldpeak'])\n",
        "plt.title('Exercise Induced ST Depression')\n"
      ],
      "execution_count": null,
      "outputs": [
        {
          "output_type": "execute_result",
          "data": {
            "text/plain": [
              "Text(0.5, 1.0, 'Exercise Induced ST Depression')"
            ]
          },
          "metadata": {
            "tags": []
          },
          "execution_count": 40
        },
        {
          "output_type": "display_data",
          "data": {
            "image/png": "[encoded data removed]",
            "text/plain": [
              "<Figure size 1440x1080 with 5 Axes>"
            ]
          },
          "metadata": {
            "tags": [],
            "needs_background": "light"
          }
        }
      ]
    },
    {
      "cell_type": "markdown",
      "metadata": {
        "id": "o9YqAqEUD3lC"
      },
      "source": [
        "After reviewing the outliers I have elected to keep them in the population, as I have no scientific basis to deem these values invalid. They may in fact be useful, because unusually elevated/low measures may be significant indicators of disease."
      ]
    },
    {
      "cell_type": "markdown",
      "metadata": {
        "id": "SIw6m8iV5FGo"
      },
      "source": [
        "###C. Data Exploration- Visualization"
      ]
    },
    {
      "cell_type": "code",
      "metadata": {
        "colab": {
          "base_uri": "https://localhost:8080/",
          "height": 118
        },
        "id": "gBD-XsdKTWpu",
        "outputId": "3a7f0055-4fbc-447d-c80c-8ae3db9f5e43"
      },
      "source": [
        "plt.figure(figsize=(25,20))\n",
        "\n",
        "#(n)\n",
        "plt.subplot(3,5,1)\n",
        "ax = sns.boxplot(x='target', y='age', data=heart_df)\n",
        "ax.set_title('Age vs Target')\n",
        "ax.set_xticklabels(['No Disease', 'Disease'])\n",
        "\n",
        "#(c)\n",
        "plt.subplot(3,5,2)\n",
        "ax = sns.barplot(x='sex', y='target', data=heart_df)\n",
        "ax.set_title('Sex vs Target')\n",
        "ax.set_xticklabels(['Female', 'Male'])\n",
        "\n",
        "plt.subplot(3,5,11)\n",
        "ax = sns.barplot(x='cp', y='target', data=heart_df)\n",
        "ax.set_title('Chest Pain Type vs Target')\n",
        "ax.set_xticklabels(['typical angina', 'atypical angina', 'non-anginal pain', 'asymptomatic'], rotation=45)\n",
        "\n",
        "plt.subplot(3,5,4)\n",
        "ax = sns.boxplot(x='target', y='trestbps', data=heart_df)\n",
        "ax.set_title('Resting Blood Pressure vs Target')\n",
        "ax.set_xticklabels(['No Disease', 'Disease'])\n",
        "\n",
        "plt.subplot(3,5,5)\n",
        "ax = sns.boxplot(x='target', y='chol', data=heart_df)\n",
        "ax.set_title('Cholesterol vs Target')\n",
        "ax.set_xticklabels(['No Disease', 'Disease'])\n",
        "\n",
        "plt.subplot(3,5,6)\n",
        "ax = sns.barplot(x='fbs', y='target', data=heart_df)\n",
        "ax.set_title('Fasting Blood Sugar vs Target')\n",
        "ax.set_xticklabels(['<= 120 mg/dl', '> 120 mg/dl'])\n",
        "\n",
        "plt.subplot(3,5,12)\n",
        "ax = sns.barplot(x='restecg', y='target', data=heart_df)\n",
        "ax.set_title('Resting ECG vs Target')\n",
        "ax.set_xticklabels(['Normal', 'ST-T Wave Abnormality', 'Left Ventricular Hypertrophy'], rotation = 45)\n",
        "\n",
        "plt.subplot(3,5,8)\n",
        "ax = sns.boxplot(x='target', y='thalach', data=heart_df)\n",
        "ax.set_title('Max Heart Rate vs Target')\n",
        "ax.set_xticklabels(['No Disease', 'Disease'])\n",
        "\n",
        "plt.subplot(3,5,9)\n",
        "ax = sns.barplot(x='exang', y='target', data=heart_df)\n",
        "ax.set_title('Exercise Induced Angina vs Target')\n",
        "ax.set_xticklabels(['No Angina', 'Angina'])\n",
        "\n",
        "plt.subplot(3,5,10)\n",
        "ax = sns.boxplot(x='target', y='oldpeak', data=heart_df)\n",
        "ax.set_title('Oldpeak vs Target')\n",
        "ax.set_xticklabels(['No Disease', 'Disease'])\n",
        "\n",
        "plt.subplot(3,5,3)\n",
        "ax = sns.barplot(x='slope', y='target', data=heart_df)\n",
        "ax.set_title('Peak Exercise ST Slope vs Target')\n",
        "ax.set_xticklabels(['Upsloping', 'Flat', 'Downsloping'])\n",
        "\n",
        "plt.subplot(3,5,7)\n",
        "ax = sns.barplot(x='ca', y='target', data=heart_df)\n",
        "ax.set_title('Number of Major Vessels vs Target')\n",
        "#ax.set_xticklabels(['No Angina', 'Angina'])\n",
        "\n",
        "plt.subplot(3,5,13)\n",
        "ax = sns.barplot(x='thal', y='target', data=heart_df)\n",
        "ax.set_title('Thal vs Target')\n",
        "ax.set_xticklabels(['None', 'Normal', 'Fixed Defect', 'Reversible Defect'], rotation=45)"
      ],
      "execution_count": null,
      "outputs": [
        {
          "output_type": "execute_result",
          "data": {
            "text/plain": [
              "[Text(0, 0, 'None'),\n",
              " Text(0, 0, 'Normal'),\n",
              " Text(0, 0, 'Fixed Defect'),\n",
              " Text(0, 0, 'Reversible Defect')]"
            ]
          },
          "metadata": {
            "tags": []
          },
          "execution_count": 41
        },
        {
          "output_type": "display_data",
          "data": {
            "image/png": "[encoded data removed]",
            "text/plain": [
              "<Figure size 1800x1440 with 13 Axes>"
            ]
          },
          "metadata": {
            "tags": [],
            "needs_background": "light"
          }
        }
      ]
    },
    {
      "cell_type": "code",
      "metadata": {
        "colab": {
          "base_uri": "https://localhost:8080/",
          "height": 69
        },
        "id": "mtDcOsaBXs7V",
        "outputId": "8f7e31bf-0db4-4f94-d0d1-0285c2da35e7"
      },
      "source": [
        "plt.figure(figsize=(6, 8))\n",
        "ax = sns.boxplot(x='target', y='thalach', data=heart_df)\n",
        "ax.set_title('Max Heart Rate vs Target')\n",
        "ax.set_xticklabels(['No Disease', 'Disease'])"
      ],
      "execution_count": null,
      "outputs": [
        {
          "output_type": "execute_result",
          "data": {
            "text/plain": [
              "[Text(0, 0, 'No Disease'), Text(0, 0, 'Disease')]"
            ]
          },
          "metadata": {
            "tags": []
          },
          "execution_count": 42
        },
        {
          "output_type": "display_data",
          "data": {
            "image/png": "[encoded data removed]",
            "text/plain": [
              "<Figure size 432x576 with 1 Axes>"
            ]
          },
          "metadata": {
            "tags": [],
            "needs_background": "light"
          }
        }
      ]
    },
    {
      "cell_type": "markdown",
      "metadata": {
        "id": "X4zmBJZc9hq4"
      },
      "source": [
        "#III. Data Models"
      ]
    },
    {
      "cell_type": "code",
      "metadata": {
        "id": "AISyOJeTATvf"
      },
      "source": [
        "#Variable definition & train-test split for use in most models\n",
        "X= heart_df.drop(columns='target')\n",
        "y = heart_df['target']\n",
        "\n",
        "X_train, X_test, y_train, y_test = train_test_split(X, y, test_size=.30, random_state=5)"
      ],
      "execution_count": null,
      "outputs": []
    },
    {
      "cell_type": "markdown",
      "metadata": {
        "id": "e50uNnbc9qCr"
      },
      "source": [
        "##1. K Nearest Neighbor"
      ]
    },
    {
      "cell_type": "code",
      "metadata": {
        "id": "FvQybntzAG5N"
      },
      "source": [
        "#Eliminate categorical-type variables because KNN can't process them\n",
        "Xknn = heart_df.drop(columns = ['target', 'sex', 'cp', 'fbs', 'restecg', 'exang', 'slope', 'ca', 'thal'])\n",
        "\n",
        "Xknn_train, Xknn_test, yknn_train, yknn_test = train_test_split(Xknn, y, test_size=.30, random_state=5)"
      ],
      "execution_count": null,
      "outputs": []
    },
    {
      "cell_type": "code",
      "metadata": {
        "id": "rYMhODQuB16G"
      },
      "source": [
        "#Scale using standard scaler (sklearn.preprocessing.StandardScaler)\n",
        "from sklearn.preprocessing import StandardScaler\n",
        "\n",
        "scaler=StandardScaler()\n",
        "scaler.fit(Xknn_train)\n",
        "\n",
        "X_knntrain = scaler.transform(Xknn_train)\n",
        "X_knntest = scaler.transform(Xknn_test)"
      ],
      "execution_count": null,
      "outputs": []
    },
    {
      "cell_type": "code",
      "metadata": {
        "colab": {
          "base_uri": "https://localhost:8080/"
        },
        "id": "3fWop12mvklg",
        "outputId": "f8b9b177-9876-4f5e-f27b-263e7eee2d52"
      },
      "source": [
        "from sklearn.neighbors import KNeighborsClassifier\n",
        "\n",
        "#Fit KNN model\n",
        "knn = KNeighborsClassifier(n_neighbors=9) #Tried different values for n. 9 had the best and most balanced f1-score\n",
        "knn.fit(Xknn_train, yknn_train)\n",
        "\n",
        "#Generate predictions\n",
        "#knn_score = knn.score(Xknn_test, yknn_test)\n",
        "knn_predictions = knn.predict(Xknn_test)\n",
        "\n",
        "#Evaluate\n",
        "print(classification_report(yknn_test, knn_predictions, target_names = ['No Heart Disease', 'Heart Disease']))"
      ],
      "execution_count": null,
      "outputs": [
        {
          "output_type": "stream",
          "text": [
            "                  precision    recall  f1-score   support\n",
            "\n",
            "No Heart Disease       0.67      0.74      0.70        43\n",
            "   Heart Disease       0.74      0.67      0.70        48\n",
            "\n",
            "        accuracy                           0.70        91\n",
            "       macro avg       0.71      0.71      0.70        91\n",
            "    weighted avg       0.71      0.70      0.70        91\n",
            "\n"
          ],
          "name": "stdout"
        }
      ]
    },
    {
      "cell_type": "markdown",
      "metadata": {
        "id": "SiVaHFeTFNY2"
      },
      "source": [
        "Tried different values for n_neighbors. n=9 had the best and most balanced f1-score"
      ]
    },
    {
      "cell_type": "markdown",
      "metadata": {
        "id": "Wr5OMtSQ_i8T"
      },
      "source": [
        "##2. Decision Tree"
      ]
    },
    {
      "cell_type": "code",
      "metadata": {
        "colab": {
          "base_uri": "https://localhost:8080/"
        },
        "id": "B5xXcjAYRTlz",
        "outputId": "318cc842-641c-42e0-9d7b-da8eb8eb9535"
      },
      "source": [
        "from sklearn.tree import DecisionTreeClassifier\n",
        "\n",
        "dt = DecisionTreeClassifier(\n",
        "    criterion='entropy',\n",
        "    max_features=6,\n",
        "    max_depth=4\n",
        ")\n",
        "\n",
        "dt.fit(X_train, y_train)\n",
        "\n",
        "#dt_score = dt.score(X_test, y_test)\n",
        "\n",
        "dt_predictions = dt.predict(X_test)\n",
        "\n",
        "print(classification_report(y_test, dt_predictions, target_names = ['No Heart Disease', 'Heart Disease']))"
      ],
      "execution_count": null,
      "outputs": [
        {
          "output_type": "stream",
          "text": [
            "                  precision    recall  f1-score   support\n",
            "\n",
            "No Heart Disease       0.82      0.74      0.78        43\n",
            "   Heart Disease       0.79      0.85      0.82        48\n",
            "\n",
            "        accuracy                           0.80        91\n",
            "       macro avg       0.80      0.80      0.80        91\n",
            "    weighted avg       0.80      0.80      0.80        91\n",
            "\n"
          ],
          "name": "stdout"
        }
      ]
    },
    {
      "cell_type": "markdown",
      "metadata": {
        "id": "3f1rH9kNMBEm"
      },
      "source": [
        "Determined max features and max depth based on trial and error. Picked a combination that yielded good results consistently, although results varied with no random state defined.\n",
        "\n",
        "I will attempt to improve the model by tuning hyperparameters using GridSearchCV below."
      ]
    },
    {
      "cell_type": "code",
      "metadata": {
        "colab": {
          "base_uri": "https://localhost:8080/"
        },
        "id": "9HMRa1gyd8iw",
        "outputId": "0fe369d2-0b07-484b-bf5b-50e3b3f22c30"
      },
      "source": [
        "#Hyperparameter tuning\n",
        "parameters ={'max_depth': [5, 10, 15, 20, 25, 30],\n",
        "     'criterion' : ['gini', 'entropy'],\n",
        "     'max_features': [1,2,4,8],\n",
        "     'min_samples_leaf': [3,5,7,10,15],\n",
        "     'min_samples_split': [2,5,10]}\n",
        "\n",
        "from sklearn.model_selection import GridSearchCV\n",
        "grid_search = DecisionTreeClassifier()\n",
        "grid_search = GridSearchCV(\n",
        "    grid_search, \n",
        "    parameters, \n",
        "    cv=5,\n",
        "    scoring='accuracy',n_jobs=-1)\n",
        "\n",
        "grid_result= grid_search.fit(X_train, y_train)\n",
        "print('Best Params: ', grid_result.best_params_)\n",
        "print('Best Score: ', grid_result.best_score_)"
      ],
      "execution_count": null,
      "outputs": [
        {
          "output_type": "stream",
          "text": [
            "Best Params:  {'criterion': 'gini', 'max_depth': 5, 'max_features': 4, 'min_samples_leaf': 10, 'min_samples_split': 5}\n",
            "Best Score:  0.7880398671096346\n"
          ],
          "name": "stdout"
        }
      ]
    },
    {
      "cell_type": "code",
      "metadata": {
        "colab": {
          "base_uri": "https://localhost:8080/"
        },
        "id": "l-2lxZjqgSNN",
        "outputId": "d73e69d4-bf0b-4534-bd52-b47ba4289910"
      },
      "source": [
        "dt = DecisionTreeClassifier(\n",
        "    max_depth=10,\n",
        "    criterion='entropy',\n",
        "    max_features=4,\n",
        "    min_samples_leaf=10,\n",
        "    min_samples_split=5\n",
        ")\n",
        "\n",
        "dt.fit(X_train, y_train)\n",
        "\n",
        "#dt_score = dt.score(X_test, y_test)\n",
        "\n",
        "dt_predictions = dt.predict(X_test)\n",
        "\n",
        "print(classification_report(y_test, dt_predictions, target_names = ['No Heart Disease', 'Heart Disease']))"
      ],
      "execution_count": null,
      "outputs": [
        {
          "output_type": "stream",
          "text": [
            "                  precision    recall  f1-score   support\n",
            "\n",
            "No Heart Disease       0.92      0.77      0.84        43\n",
            "   Heart Disease       0.82      0.94      0.87        48\n",
            "\n",
            "        accuracy                           0.86        91\n",
            "       macro avg       0.87      0.85      0.85        91\n",
            "    weighted avg       0.86      0.86      0.86        91\n",
            "\n"
          ],
          "name": "stdout"
        }
      ]
    },
    {
      "cell_type": "markdown",
      "metadata": {
        "id": "nXa6QMGig6mD"
      },
      "source": [
        "This hyperparameter tuning has successfully improved scores."
      ]
    },
    {
      "cell_type": "markdown",
      "metadata": {
        "id": "r_ofYH1y_oZg"
      },
      "source": [
        "##3. Random Forest"
      ]
    },
    {
      "cell_type": "code",
      "metadata": {
        "colab": {
          "base_uri": "https://localhost:8080/"
        },
        "id": "F947bwjNS9nU",
        "outputId": "b16244b3-8ba5-4da2-ecf4-f4474d2c2857"
      },
      "source": [
        "from sklearn.ensemble import RandomForestClassifier\n",
        "\n",
        "rf = RandomForestClassifier(n_estimators = 22, random_state= 5)\n",
        "\n",
        "rf.fit(X_train, y_train)\n",
        "#rf_score = rf.score(X_test, y_test)\n",
        "rf_predictions = rf.predict(X_test)\n",
        "\n",
        "print(classification_report(y_test, rf_predictions, target_names = ['No Heart Disease', 'Heart Disease']))"
      ],
      "execution_count": null,
      "outputs": [
        {
          "output_type": "stream",
          "text": [
            "                  precision    recall  f1-score   support\n",
            "\n",
            "No Heart Disease       0.86      0.86      0.86        43\n",
            "   Heart Disease       0.88      0.88      0.88        48\n",
            "\n",
            "        accuracy                           0.87        91\n",
            "       macro avg       0.87      0.87      0.87        91\n",
            "    weighted avg       0.87      0.87      0.87        91\n",
            "\n"
          ],
          "name": "stdout"
        }
      ]
    },
    {
      "cell_type": "code",
      "metadata": {
        "colab": {
          "base_uri": "https://localhost:8080/",
          "height": 294
        },
        "id": "alvLt3UPL04x",
        "outputId": "d4cece16-194f-4938-b19f-bc4bcf1771ec"
      },
      "source": [
        "#Test the importance of individual features to the model\n",
        "feature_importance = rf.feature_importances_\n",
        "\n",
        "# Make importances relative to max importance.\n",
        "feature_importance = 100.0 * (feature_importance / feature_importance.max())\n",
        "sorted_idx = np.argsort(feature_importance)\n",
        "pos = np.arange(sorted_idx.shape[0]) + .5\n",
        "plt.subplot(1, 2, 2)\n",
        "plt.barh(pos, feature_importance[sorted_idx], align='center')\n",
        "plt.yticks(pos, X.columns[sorted_idx])\n",
        "plt.xlabel('Relative Importance')\n",
        "plt.title('Variable Importance')\n",
        "plt.show()"
      ],
      "execution_count": null,
      "outputs": [
        {
          "output_type": "display_data",
          "data": {
            "image/png": "[encoded data removed]",
            "text/plain": [
              "<Figure size 432x288 with 1 Axes>"
            ]
          },
          "metadata": {
            "tags": [],
            "needs_background": "light"
          }
        }
      ]
    },
    {
      "cell_type": "markdown",
      "metadata": {
        "id": "kua_cUBmQlrM"
      },
      "source": [
        "I will drop the least important variables (relative importance > 25) and refit the model to see if it improves results."
      ]
    },
    {
      "cell_type": "code",
      "metadata": {
        "colab": {
          "base_uri": "https://localhost:8080/"
        },
        "id": "_pzfrDpfQelp",
        "outputId": "c44569f6-57c5-4b48-a8a7-f31bec9aee04"
      },
      "source": [
        "#Drop variables and re-split data\n",
        "Xrf = heart_df.drop(columns = ['restecg', 'fbs'])\n",
        "\n",
        "Xrf_train, Xrf_test, yrf_train, yrf_test = train_test_split(Xrf, y, test_size=.80)\n",
        "\n",
        "rf2 = RandomForestClassifier(n_estimators = 22, random_state= 5)\n",
        "\n",
        "rf2.fit(Xrf_train, yrf_train)\n",
        "rf2_predictions = rf2.predict(Xrf_test)\n",
        "\n",
        "print(classification_report(yrf_test, rf2_predictions, target_names = ['No Heart Disease', 'Heart Disease']))"
      ],
      "execution_count": null,
      "outputs": [
        {
          "output_type": "stream",
          "text": [
            "                  precision    recall  f1-score   support\n",
            "\n",
            "No Heart Disease       1.00      1.00      1.00       111\n",
            "   Heart Disease       1.00      1.00      1.00       132\n",
            "\n",
            "        accuracy                           1.00       243\n",
            "       macro avg       1.00      1.00      1.00       243\n",
            "    weighted avg       1.00      1.00      1.00       243\n",
            "\n"
          ],
          "name": "stdout"
        }
      ]
    },
    {
      "cell_type": "markdown",
      "metadata": {
        "id": "dmcpDsw4Xlc4"
      },
      "source": [
        "Accuracy is much improved on this new model, however most scores in the classification report are now at or near 1, which could indicate overfitting. To assess this risk, I've increased the test size up to 80% and I am still seeing very high accuracy. \n",
        "\n",
        "Please see conclusion for full explanation of considerations made in regards to overfitting.\n",
        "\n",
        "Due to these high scores, no additional hyperparameter tuning deemed necessary."
      ]
    },
    {
      "cell_type": "markdown",
      "metadata": {
        "id": "fgQHNdkz_0_Y"
      },
      "source": [
        "##4. Gradient Boosting"
      ]
    },
    {
      "cell_type": "code",
      "metadata": {
        "id": "PK_xWrRt_0d9",
        "colab": {
          "base_uri": "https://localhost:8080/"
        },
        "outputId": "f66e641e-94fc-4f13-cb88-150a40613b00"
      },
      "source": [
        "from sklearn import ensemble\n",
        "# Make 500 iterations, use 2-deep trees, and set loss function\n",
        "\n",
        "params = {'n_estimators': 1000, #SAME\n",
        "          'learning_rate': .025, #SAME\n",
        "          'max_depth': 7, #SAME\n",
        "          'loss': 'exponential',\n",
        "          'subsample': .9, #NEW\n",
        "          'min_samples_split': 5\n",
        "          } #loss function is deviance (using binary outcome so loss function cant be the residuals)\n",
        "\n",
        "#initialize and fit model\n",
        "clf = ensemble.GradientBoostingClassifier(**params)\n",
        "clf.fit(X_train, y_train)\n",
        "\n",
        "#boost_predict_train = clf.predict(X_train)\n",
        "boost_predict_test = clf.predict(X_test)\n",
        "\n",
        "print(classification_report(y_test, boost_predict_test, target_names = ['No Heart Disease', 'Heart Disease']))"
      ],
      "execution_count": null,
      "outputs": [
        {
          "output_type": "stream",
          "text": [
            "                  precision    recall  f1-score   support\n",
            "\n",
            "No Heart Disease       0.86      0.88      0.87        43\n",
            "   Heart Disease       0.89      0.88      0.88        48\n",
            "\n",
            "        accuracy                           0.88        91\n",
            "       macro avg       0.88      0.88      0.88        91\n",
            "    weighted avg       0.88      0.88      0.88        91\n",
            "\n"
          ],
          "name": "stdout"
        }
      ]
    },
    {
      "cell_type": "code",
      "metadata": {
        "colab": {
          "base_uri": "https://localhost:8080/",
          "height": 294
        },
        "id": "N3vWogCSNS6R",
        "outputId": "ff797484-7cd9-4510-807b-539e23b786e8"
      },
      "source": [
        "#A#Test importance of individual features to the model\n",
        "feature_importance = clf.feature_importances_\n",
        "\n",
        "# Make importances relative to max importance.\n",
        "feature_importance = 100.0 * (feature_importance / feature_importance.max())\n",
        "sorted_idx = np.argsort(feature_importance)\n",
        "pos = np.arange(sorted_idx.shape[0]) + .5\n",
        "plt.subplot(1, 2, 2)\n",
        "plt.barh(pos, feature_importance[sorted_idx], align='center')\n",
        "plt.yticks(pos, X.columns[sorted_idx])\n",
        "plt.xlabel('Relative Importance')\n",
        "plt.title('Variable Importance')\n",
        "plt.show()"
      ],
      "execution_count": null,
      "outputs": [
        {
          "output_type": "display_data",
          "data": {
            "image/png": "[encoded data removed]",
            "text/plain": [
              "<Figure size 432x288 with 1 Axes>"
            ]
          },
          "metadata": {
            "tags": [],
            "needs_background": "light"
          }
        }
      ]
    },
    {
      "cell_type": "markdown",
      "metadata": {
        "id": "Aj99oKy4Nz45"
      },
      "source": [
        "I will drop the least important variables (relative importance > 25) and refit the model to see if it improves results."
      ]
    },
    {
      "cell_type": "code",
      "metadata": {
        "colab": {
          "base_uri": "https://localhost:8080/"
        },
        "id": "GSnxWqU5NxSw",
        "outputId": "78b9038f-35d9-4819-9373-c7b53fb9619a"
      },
      "source": [
        "#Drop variables and re-split data\n",
        "Xgb = heart_df.drop(columns = ['exang', 'slope', 'restecg', 'fbs'])\n",
        "\n",
        "Xgb_train, Xgb_test, ygb_train, ygb_test = train_test_split(Xgb, y, test_size=.95)\n",
        "\n",
        "#Refit model\n",
        "clf2 = ensemble.GradientBoostingClassifier(**params)\n",
        "clf2.fit(Xgb_train, ygb_train)\n",
        "\n",
        "boost_predict_test2 = clf2.predict(Xgb_test)\n",
        "\n",
        "print(classification_report(ygb_test, boost_predict_test2, target_names = ['No Heart Disease', 'Heart Disease']))"
      ],
      "execution_count": null,
      "outputs": [
        {
          "output_type": "stream",
          "text": [
            "                  precision    recall  f1-score   support\n",
            "\n",
            "No Heart Disease       1.00      1.00      1.00       128\n",
            "   Heart Disease       1.00      1.00      1.00       160\n",
            "\n",
            "        accuracy                           1.00       288\n",
            "       macro avg       1.00      1.00      1.00       288\n",
            "    weighted avg       1.00      1.00      1.00       288\n",
            "\n"
          ],
          "name": "stdout"
        }
      ]
    },
    {
      "cell_type": "markdown",
      "metadata": {
        "id": "sHVAmpnXQuOr"
      },
      "source": [
        "Accuracy is much improved on this new model, however most scores in the classification report are now at or near 1, which could indicate overfitting. To assess this risk, I've increased the test size up to 95% and I am still seeing very high accuracy. \n",
        "\n",
        "Please see conclusion for full explanation of considerations made in regards to overfitting.\n",
        "\n",
        "Due to these high scores, no additional hyperparameter tuning deemed necessary."
      ]
    },
    {
      "cell_type": "markdown",
      "metadata": {
        "id": "ysORUYHt_700"
      },
      "source": [
        "##5. Support Vector Machines\n",
        "(Performs best if categories are linearly separable with a clear separation between classes- Overlap between classes and noise degrades performance)."
      ]
    },
    {
      "cell_type": "code",
      "metadata": {
        "id": "CDndAXMMAB4C",
        "colab": {
          "base_uri": "https://localhost:8080/"
        },
        "outputId": "512facdb-4ac2-44b8-bd64-e41e44b20d17"
      },
      "source": [
        "from sklearn.svm import LinearSVC\n",
        "\n",
        "svm = LinearSVC(max_iter=8000000)\n",
        "svm.fit(X_train, y_train)\n",
        "\n",
        "#svm_score = svm.score(X_test, y_test)\n",
        "svm_predictions = svm.predict(X_test)\n",
        "\n",
        "print(classification_report(y_test, svm_predictions, target_names = ['No Heart Disease', 'Heart Disease']))"
      ],
      "execution_count": null,
      "outputs": [
        {
          "output_type": "stream",
          "text": [
            "                  precision    recall  f1-score   support\n",
            "\n",
            "No Heart Disease       0.95      0.88      0.92        43\n",
            "   Heart Disease       0.90      0.96      0.93        48\n",
            "\n",
            "        accuracy                           0.92        91\n",
            "       macro avg       0.93      0.92      0.92        91\n",
            "    weighted avg       0.92      0.92      0.92        91\n",
            "\n"
          ],
          "name": "stdout"
        }
      ]
    },
    {
      "cell_type": "markdown",
      "metadata": {
        "id": "kQ_Iw_4vQK6Z"
      },
      "source": [
        "SVM needed a lot of iterations (8 million) to converge, possibly due to the size of the dataset. The time it takes this model to run may make it impractical for real world use."
      ]
    },
    {
      "cell_type": "markdown",
      "metadata": {
        "id": "tf9SRNlHSg5I"
      },
      "source": [
        "##6. Logistic regression"
      ]
    },
    {
      "cell_type": "code",
      "metadata": {
        "colab": {
          "base_uri": "https://localhost:8080/"
        },
        "id": "V1Ez76gDKr4S",
        "outputId": "8e4cfb7c-76fe-4e40-aece-b21217b6f69d"
      },
      "source": [
        "import statsmodels.api as sm\n",
        "logit_model = sm.Logit(y_train, X_train)\n",
        "result=logit_model.fit()\n",
        "print(result.summary())"
      ],
      "execution_count": null,
      "outputs": [
        {
          "output_type": "stream",
          "text": [
            "Optimization terminated successfully.\n",
            "         Current function value: 0.384801\n",
            "         Iterations 7\n",
            "                           Logit Regression Results                           \n",
            "==============================================================================\n",
            "Dep. Variable:                 target   No. Observations:                  212\n",
            "Model:                          Logit   Df Residuals:                      199\n",
            "Method:                           MLE   Df Model:                           12\n",
            "Date:                Tue, 09 Feb 2021   Pseudo R-squ.:                  0.4405\n",
            "Time:                        16:37:04   Log-Likelihood:                -81.578\n",
            "converged:                       True   LL-Null:                       -145.80\n",
            "Covariance Type:            nonrobust   LLR p-value:                 1.262e-21\n",
            "==============================================================================\n",
            "                 coef    std err          z      P>|z|      [0.025      0.975]\n",
            "------------------------------------------------------------------------------\n",
            "age            0.0192      0.022      0.860      0.390      -0.025       0.063\n",
            "sex           -1.6997      0.530     -3.206      0.001      -2.739      -0.661\n",
            "cp             0.7033      0.211      3.334      0.001       0.290       1.117\n",
            "trestbps      -0.0174      0.011     -1.558      0.119      -0.039       0.004\n",
            "chol          -0.0057      0.004     -1.394      0.163      -0.014       0.002\n",
            "fbs            0.1706      0.606      0.282      0.778      -1.016       1.358\n",
            "restecg        0.7539      0.401      1.881      0.060      -0.032       1.539\n",
            "thalach        0.0367      0.010      3.680      0.000       0.017       0.056\n",
            "exang         -1.0217      0.491     -2.083      0.037      -1.983      -0.060\n",
            "oldpeak       -0.3678      0.261     -1.411      0.158      -0.879       0.143\n",
            "slope          0.3950      0.404      0.977      0.328      -0.397       1.187\n",
            "ca            -0.6882      0.221     -3.109      0.002      -1.122      -0.254\n",
            "thal          -0.9315      0.333     -2.797      0.005      -1.584      -0.279\n",
            "==============================================================================\n"
          ],
          "name": "stdout"
        }
      ]
    },
    {
      "cell_type": "markdown",
      "metadata": {
        "id": "z4Eji9aL1Tu6"
      },
      "source": [
        "Based on the logistic regression results above, certain features were not significant contributors to the result, so I will remove them from the data and refit the model.\n",
        "\n",
        "I will remove the following features due to them having a p-value over 0.05: ['age', 'trestbps', 'chol', 'fbs', 'restecg', 'oldpeak', 'slope']"
      ]
    },
    {
      "cell_type": "code",
      "metadata": {
        "id": "Fi23kShr1TZ9"
      },
      "source": [
        "#Drop variables and re-split data\n",
        "Xlr = heart_df.drop(columns = ['age', 'trestbps', 'chol', 'fbs', 'restecg', 'oldpeak', 'slope'])\n",
        "\n",
        "Xlr_train, Xlr_test, ylr_train, ylr_test = train_test_split(Xlr, y, test_size=.70)"
      ],
      "execution_count": null,
      "outputs": []
    },
    {
      "cell_type": "code",
      "metadata": {
        "id": "_aLgMLDdS78s",
        "colab": {
          "base_uri": "https://localhost:8080/"
        },
        "outputId": "74e9005b-92cf-4e7b-eaf8-3dcde400baea"
      },
      "source": [
        "from sklearn.linear_model import LogisticRegression\n",
        "lr = LogisticRegression(solver='lbfgs', penalty='none', max_iter=1000)\n",
        "\n",
        "#Fit the classifier to the data\n",
        "lr.fit(Xlr_train, ylr_train)\n",
        "lr_predictions = lr.predict(Xlr_test)\n",
        "\n",
        "print(classification_report(ylr_test, lr_predictions, target_names = ['No Heart Disease', 'Heart Disease']))"
      ],
      "execution_count": null,
      "outputs": [
        {
          "output_type": "stream",
          "text": [
            "                  precision    recall  f1-score   support\n",
            "\n",
            "No Heart Disease       1.00      1.00      1.00        93\n",
            "   Heart Disease       1.00      1.00      1.00       120\n",
            "\n",
            "        accuracy                           1.00       213\n",
            "       macro avg       1.00      1.00      1.00       213\n",
            "    weighted avg       1.00      1.00      1.00       213\n",
            "\n"
          ],
          "name": "stdout"
        }
      ]
    },
    {
      "cell_type": "code",
      "metadata": {
        "colab": {
          "base_uri": "https://localhost:8080/"
        },
        "id": "HvSt5OfN5Jbc",
        "outputId": "a6d7115d-42c6-4110-9e25-ee87a9eb3167"
      },
      "source": [
        "accuracy_score(ylr_test, lr_predictions)"
      ],
      "execution_count": null,
      "outputs": [
        {
          "output_type": "execute_result",
          "data": {
            "text/plain": [
              "0.9465020576131687"
            ]
          },
          "metadata": {
            "tags": []
          },
          "execution_count": 60
        }
      ]
    },
    {
      "cell_type": "code",
      "metadata": {
        "colab": {
          "base_uri": "https://localhost:8080/"
        },
        "id": "-nOCUVr75bFA",
        "outputId": "b87db1d8-7115-41cf-b010-76f63f1537c9"
      },
      "source": [
        "precision_score(ylr_test, lr_predictions)"
      ],
      "execution_count": null,
      "outputs": [
        {
          "output_type": "execute_result",
          "data": {
            "text/plain": [
              "0.9689922480620154"
            ]
          },
          "metadata": {
            "tags": []
          },
          "execution_count": 61
        }
      ]
    },
    {
      "cell_type": "code",
      "metadata": {
        "id": "4Db9-gZeKIr-"
      },
      "source": [
        "#Classification report on train data\n",
        "#lr_TRAIN_predictions = lr.predict(Xlr_train)\n",
        "#print(classification_report(ylr_train, lr_TRAIN_predictions, target_names = ['No Heart Disease', 'Heart Disease']))"
      ],
      "execution_count": null,
      "outputs": []
    },
    {
      "cell_type": "markdown",
      "metadata": {
        "id": "d2w-TXUjCCsC"
      },
      "source": [
        "Accuracy is much improved on this new model, however most scores in the classification report are now at or near 1, which could indicate overfitting. To assess this risk, I've increased the test size up to 80% and I am still seeing very high accuracy. \n",
        "\n",
        "Please see conclusion for full explanation of considerations made in regards to overfitting."
      ]
    },
    {
      "cell_type": "markdown",
      "metadata": {
        "id": "TVBrve0-izQG"
      },
      "source": [
        "#IV. Evaluations"
      ]
    },
    {
      "cell_type": "markdown",
      "metadata": {
        "id": "1xCfHOYNFcWx"
      },
      "source": [
        "###Confusion Matrices"
      ]
    },
    {
      "cell_type": "code",
      "metadata": {
        "colab": {
          "base_uri": "https://localhost:8080/"
        },
        "id": "ojPWaX8eizQP",
        "outputId": "109415a3-d5b9-4208-bfeb-5df85c60af44"
      },
      "source": [
        "#1. KNN\n",
        "cm_knn=confusion_matrix(yknn_test, knn_predictions, labels=[1,0])\n",
        "print('1. KNN Confusion Matrix:')\n",
        "print(cm_knn)\n",
        "\n",
        "#2. Decision Tree\n",
        "cm_dt=confusion_matrix(y_test, dt_predictions, labels=[1,0])\n",
        "print('2. Decision Tree Confusion Matrix:')\n",
        "print(cm_dt)\n",
        "\n",
        "#3. Random Forest\n",
        "cm_rf=confusion_matrix(yrf_test, rf2_predictions, labels=[1,0])\n",
        "print('3. Random Forest Confusion Matrix:')\n",
        "print(cm_rf)\n",
        "\n",
        "#4. Boosted\n",
        "cm_boost=confusion_matrix(ygb_test, boost_predict_test2, labels=[1,0])\n",
        "print('4. Gradient Boosting Confusion Matrix:')\n",
        "print(cm_boost)\n",
        "\n",
        "#5. Support Vector Machines\n",
        "svm_rf=confusion_matrix(y_test, svm_predictions, labels=[1,0])\n",
        "print('5. SVM Confusion Matrix:')\n",
        "print(svm_rf)\n",
        "\n",
        "#6. Logistic Regression\n",
        "cm_lr=confusion_matrix(ylr_test, lr_predictions, labels=[1,0])\n",
        "print('6. Linear Classification Confusion Matrix:')\n",
        "print(cm_lr)"
      ],
      "execution_count": null,
      "outputs": [
        {
          "output_type": "stream",
          "text": [
            "1. KNN Confusion Matrix:\n",
            "[[32 16]\n",
            " [11 32]]\n",
            "2. Decision Tree Confusion Matrix:\n",
            "[[45  3]\n",
            " [10 33]]\n",
            "3. Random Forest Confusion Matrix:\n",
            "[[132   0]\n",
            " [  0 111]]\n",
            "4. Gradient Boosting Confusion Matrix:\n",
            "[[160   0]\n",
            " [  0 128]]\n",
            "5. SVM Confusion Matrix:\n",
            "[[46  2]\n",
            " [ 5 38]]\n",
            "6. Linear Classification Confusion Matrix:\n",
            "[[120   0]\n",
            " [  0  93]]\n"
          ],
          "name": "stdout"
        }
      ]
    },
    {
      "cell_type": "markdown",
      "metadata": {
        "id": "_dbo8_-5FiV5"
      },
      "source": [
        "###Classification Reports"
      ]
    },
    {
      "cell_type": "code",
      "metadata": {
        "colab": {
          "base_uri": "https://localhost:8080/"
        },
        "id": "Zq8-tolWizQS",
        "outputId": "3a99c818-d00b-4854-cc0d-4a4af4504433"
      },
      "source": [
        "#1. KNN\n",
        "print('1. KNN Classification Report:')\n",
        "print(classification_report(yknn_test, knn_predictions, target_names = ['No Heart Disease', 'Heart Disease']))\n",
        "print()\n",
        "\n",
        "#2. Decision Tree\n",
        "print('2. Decision Tree Classification Report:')\n",
        "print(classification_report(y_test, dt_predictions, target_names = ['No Heart Disease', 'Heart Disease']))\n",
        "print()\n",
        "\n",
        "#3. Random Forest\n",
        "print('3. Random Forest Classification Report:')\n",
        "print(classification_report(yrf_test, rf2_predictions, target_names = ['No Heart Disease', 'Heart Disease']))\n",
        "print()\n",
        "\n",
        "#4. Gradient Boosting\n",
        "print('4. Gradient Boosting Classification Report:')\n",
        "print(classification_report(ygb_test, boost_predict_test2, target_names = ['No Heart Disease', 'Heart Disease']))\n",
        "print()\n",
        "\n",
        "#5.SVM\n",
        "print('5. SVM Classification Report:')\n",
        "print(classification_report(y_test, svm_predictions, target_names = ['No Heart Disease', 'Heart Disease']))\n",
        "print()\n",
        "\n",
        "#6. Logistic Regression\n",
        "print('6. Logistic Regression Classification Report:')\n",
        "print(classification_report(ylr_test, lr_predictions, target_names = ['No Heart Disease', 'Heart Disease']))"
      ],
      "execution_count": null,
      "outputs": [
        {
          "output_type": "stream",
          "text": [
            "1. KNN Classification Report:\n",
            "                  precision    recall  f1-score   support\n",
            "\n",
            "No Heart Disease       0.67      0.74      0.70        43\n",
            "   Heart Disease       0.74      0.67      0.70        48\n",
            "\n",
            "        accuracy                           0.70        91\n",
            "       macro avg       0.71      0.71      0.70        91\n",
            "    weighted avg       0.71      0.70      0.70        91\n",
            "\n",
            "\n",
            "2. Decision Tree Classification Report:\n",
            "                  precision    recall  f1-score   support\n",
            "\n",
            "No Heart Disease       0.92      0.77      0.84        43\n",
            "   Heart Disease       0.82      0.94      0.87        48\n",
            "\n",
            "        accuracy                           0.86        91\n",
            "       macro avg       0.87      0.85      0.85        91\n",
            "    weighted avg       0.86      0.86      0.86        91\n",
            "\n",
            "\n",
            "3. Random Forest Classification Report:\n",
            "                  precision    recall  f1-score   support\n",
            "\n",
            "No Heart Disease       1.00      1.00      1.00       111\n",
            "   Heart Disease       1.00      1.00      1.00       132\n",
            "\n",
            "        accuracy                           1.00       243\n",
            "       macro avg       1.00      1.00      1.00       243\n",
            "    weighted avg       1.00      1.00      1.00       243\n",
            "\n",
            "\n",
            "4. Gradient Boosting Classification Report:\n",
            "                  precision    recall  f1-score   support\n",
            "\n",
            "No Heart Disease       1.00      1.00      1.00       128\n",
            "   Heart Disease       1.00      1.00      1.00       160\n",
            "\n",
            "        accuracy                           1.00       288\n",
            "       macro avg       1.00      1.00      1.00       288\n",
            "    weighted avg       1.00      1.00      1.00       288\n",
            "\n",
            "\n",
            "5. SVM Classification Report:\n",
            "                  precision    recall  f1-score   support\n",
            "\n",
            "No Heart Disease       0.95      0.88      0.92        43\n",
            "   Heart Disease       0.90      0.96      0.93        48\n",
            "\n",
            "        accuracy                           0.92        91\n",
            "       macro avg       0.93      0.92      0.92        91\n",
            "    weighted avg       0.92      0.92      0.92        91\n",
            "\n",
            "\n",
            "6. Logistic Regression Classification Report:\n",
            "                  precision    recall  f1-score   support\n",
            "\n",
            "No Heart Disease       1.00      1.00      1.00        93\n",
            "   Heart Disease       1.00      1.00      1.00       120\n",
            "\n",
            "        accuracy                           1.00       213\n",
            "       macro avg       1.00      1.00      1.00       213\n",
            "    weighted avg       1.00      1.00      1.00       213\n",
            "\n"
          ],
          "name": "stdout"
        }
      ]
    },
    {
      "cell_type": "markdown",
      "metadata": {
        "id": "UHz2TuKZACuE"
      },
      "source": [
        "Logistic regression, Random Forest, and Gradient Boosting models have very strong scores."
      ]
    },
    {
      "cell_type": "markdown",
      "metadata": {
        "id": "EU7jEdIsGvF6"
      },
      "source": [
        "###Cross fold validation"
      ]
    },
    {
      "cell_type": "code",
      "metadata": {
        "colab": {
          "base_uri": "https://localhost:8080/"
        },
        "id": "wI5ePQaiizQT",
        "outputId": "79cd295d-050b-4e7e-b8d7-c5a5c71a9b1e"
      },
      "source": [
        "#Cross fold validation\n",
        "#TODO add std deviation of the variance so you can see how different the folds come out. big differences could mean overfitting\n",
        "#better to sacrifice a little accuracy for consistent results. just do a standard deviation calc, just like the mean is done\n",
        "\n",
        "#1. KNN\n",
        "knn_cvs= cross_val_score(knn, Xknn_train, yknn_train, cv=5) #cvs=cross validation score\n",
        "\n",
        "#2. Decision Tree\n",
        "dt_cvs= cross_val_score(dt, X_train, y_train, cv=5) #cvs=cross validation score\n",
        "\n",
        "\n",
        "#3. Random Forest\n",
        "rf_cvs= cross_val_score(rf, Xrf_train, yrf_train, cv=5)\n",
        "\n",
        "#4. Gradient Boosting\n",
        "boost_cvs = cross_val_score(clf, Xgb_train, ygb_train, cv=5)\n",
        "\n",
        "#5. SVM\n",
        "#svm_cvs= cross_val_score(svm, X_train, y_train, cv=5)\n",
        "\n",
        "#6. Logistic Regression\n",
        "lr_cvs= cross_val_score(lr, Xlr_train, ylr_train, cv=5)\n",
        "\n",
        "print('Accuracy score for the 5 folds: ') \n",
        "print('1. KNN: ', knn_cvs)\n",
        "print('2. Decision Tree: ', dt_cvs)\n",
        "print('3. Random Forest: ', rf_cvs)\n",
        "print('4. Gradient Boosting: ', boost_cvs)\n",
        "#print('5. SVM: ', svm_cvs)\n",
        "print('6. Logistic Regression: ', lr_cvs)\n",
        "\n",
        "print()\n",
        "\n",
        "print('Mean cross-validation score: ')\n",
        "print('1. KNN: ', np.mean(knn_cvs))\n",
        "print('2. Decision Tree: ', np.mean(dt_cvs))\n",
        "print('3. Random Forest: ', np.mean(rf_cvs))\n",
        "print('4. Gradient Boosting: ', np.mean(boost_cvs))\n",
        "#print('5. SVM: ', np.mean(svm_cvs))\n",
        "print('6. Logistic Regression: ', np.mean(lr_cvs))\n",
        "\n",
        "print()\n",
        "\n",
        "print('Std deviation of cross-validation scores: ')\n",
        "print('1. KNN: ', np.std(knn_cvs))\n",
        "print('2. Decision Tree: ', np.std(dt_cvs))\n",
        "print('3. Random Forest: ', np.std(rf_cvs))\n",
        "print('4. Gradient Boosting: ', np.std(boost_cvs))\n",
        "#print('5. SVM: ', np.mean(svm_cvs))\n",
        "print('6. Logistic Regression: ', np.std(lr_cvs))\n"
      ],
      "execution_count": null,
      "outputs": [
        {
          "output_type": "stream",
          "text": [
            "Accuracy score for the 5 folds: \n",
            "1. KNN:  [0.53488372 0.55813953 0.73809524 0.71428571 0.57142857]\n",
            "2. Decision Tree:  [0.76744186 0.62790698 0.66666667 0.76190476 0.69047619]\n",
            "3. Random Forest:  [1. 1. 1. 1. 1.]\n",
            "4. Gradient Boosting:  [1. 1. 1. 1. 1.]\n",
            "6. Logistic Regression:  [1. 1. 1. 1. 1.]\n",
            "\n",
            "Mean cross-validation score: \n",
            "1. KNN:  0.6233665559246955\n",
            "2. Decision Tree:  0.7028792912513844\n",
            "3. Random Forest:  1.0\n",
            "4. Gradient Boosting:  1.0\n",
            "6. Logistic Regression:  1.0\n",
            "\n",
            "Std deviation of cross-validation scores: \n",
            "1. KNN:  0.08510028726828381\n",
            "2. Decision Tree:  0.054292486699450845\n",
            "3. Random Forest:  0.0\n",
            "4. Gradient Boosting:  0.0\n",
            "6. Logistic Regression:  0.0\n"
          ],
          "name": "stdout"
        }
      ]
    },
    {
      "cell_type": "markdown",
      "metadata": {
        "id": "Emvntn-_Fo15"
      },
      "source": [
        "###Area under ROC curve"
      ]
    },
    {
      "cell_type": "code",
      "metadata": {
        "colab": {
          "base_uri": "https://localhost:8080/"
        },
        "id": "TUEJ9IhXizQS",
        "outputId": "363851df-ac3e-484c-a72a-ba4b912a985d"
      },
      "source": [
        "#1. KNN\n",
        "knn_probs=knn.predict_proba(Xknn_test)[:,1]\n",
        "knn_auc = roc_auc_score(yknn_test, knn_probs)\n",
        "print('1. KNN: {:.3f}'.format(knn_auc))\n",
        "\n",
        "#2.Decision Tree\n",
        "dt_probs=dt.predict_proba(X_test)[:,1]\n",
        "dt_auc = roc_auc_score(y_test, dt_probs)\n",
        "print('2. Decision Tree: {:.3f}'.format(dt_auc))\n",
        "\n",
        "#3. Random Forest\n",
        "rf_probs=rf2.predict_proba(Xrf_test)[:,1]\n",
        "rf_auc = roc_auc_score(yrf_test, rf_probs)\n",
        "print('3. Random Forest: {:.3f}'.format(rf_auc))\n",
        "\n",
        "#4. Gradient Boosting\n",
        "boost_probs=clf2.predict_proba(Xgb_test)[:,1]\n",
        "boost_auc = roc_auc_score(ygb_test, boost_probs)\n",
        "print('4. Gradient Boosting: {:.3f}'.format(boost_auc))\n",
        "\n",
        "#5. SVM\n",
        "svm_probs=svm.predict(X_test) #[:,1]\n",
        "svm_auc = roc_auc_score(y_test, svm_probs)\n",
        "print('5. SVM: {:.3f}'.format(svm_auc))\n",
        "\n",
        "#6. Logistic Regression\n",
        "lr_probs=lr.predict_proba(Xlr_test)[:,1]\n",
        "lr_auc = roc_auc_score(ylr_test, lr_probs)\n",
        "print('6. Logistic Regression: {:.3f}'.format(lr_auc))"
      ],
      "execution_count": null,
      "outputs": [
        {
          "output_type": "stream",
          "text": [
            "1. KNN: 0.738\n",
            "2. Decision Tree: 0.926\n",
            "3. Random Forest: 1.000\n",
            "4. Gradient Boosting: 1.000\n",
            "5. SVM: 0.921\n",
            "6. Logistic Regression: 1.000\n"
          ],
          "name": "stdout"
        }
      ]
    },
    {
      "cell_type": "code",
      "metadata": {
        "colab": {
          "base_uri": "https://localhost:8080/",
          "height": 620
        },
        "id": "-BJeVNSAXvwI",
        "outputId": "82b114ec-02fa-4fb5-906b-7668b632ac89"
      },
      "source": [
        "from sklearn.metrics import roc_curve\n",
        "fpr_knn, tpr_knn, thresholds_knn = roc_curve(yknn_test, knn_probs)\n",
        "fpr_dt, tpr_dt, thresholds_dt = roc_curve(y_test, dt_probs)\n",
        "fpr_rf, tpr_rf, thresholds_rf = roc_curve(yrf_test, rf_probs)\n",
        "fpr_boost, tpr_boost, thresholds_boost = roc_curve(ygb_test, boost_probs)\n",
        "fpr_svm, tpr_svm, thresholds_svm = roc_curve(y_test, svm_probs)\n",
        "fpr_lr, tpr_lr, thresholds_lr = roc_curve(ylr_test, lr_probs)\n",
        "\n",
        "fig = plt.figure(figsize = (10, 10))\n",
        "plt.plot([0, 1], [0, 1], 'k--')\n",
        "plt.plot(fpr_knn, tpr_knn, label='1. KNN')\n",
        "plt.plot(fpr_dt, tpr_dt, label='2. Decision Tree')\n",
        "plt.plot(fpr_rf, tpr_rf, label='3. Random Forest', linewidth=8)\n",
        "plt.plot(fpr_boost, tpr_boost, label='4. Gradient Boosting', color='red', linewidth=4)\n",
        "plt.plot(fpr_svm, tpr_svm, label='5. SVM')\n",
        "plt.plot(fpr_lr, tpr_lr, label='6. Logistic Regression', color='blue', linewidth=2)\n",
        "\n",
        "plt.legend(loc='lower right')\n",
        "\n",
        "plt.xlabel('False Positive Rate')\n",
        "plt.ylabel('True Positive Rate')\n",
        "plt.title('ROC curves')\n",
        "plt.show()"
      ],
      "execution_count": null,
      "outputs": [
        {
          "output_type": "display_data",
          "data": {
            "image/png": "[encoded data removed]",
            "text/plain": [
              "<Figure size 720x720 with 1 Axes>"
            ]
          },
          "metadata": {
            "tags": [],
            "needs_background": "light"
          }
        }
      ]
    },
    {
      "cell_type": "markdown",
      "metadata": {
        "id": "j_2TOvJzSkM-"
      },
      "source": [
        "#V. Conclusion"
      ]
    },
    {
      "cell_type": "markdown",
      "metadata": {
        "id": "HcPncK8XSsjp"
      },
      "source": [
        "##Heart disease can be predicted based on these models"
      ]
    },
    {
      "cell_type": "markdown",
      "metadata": {
        "id": "GXZpQNPx5-VN"
      },
      "source": [
        "Based on the results above, the use of supervised machine learning is an effective tool in predicting heart disease based on the key diagnostic measures included in this dataset. In particular, 3 of these models- Random Forest, Gradient Boosting, and Logistic Regression- were extremely effective after minor tweaks to the feature set."
      ]
    },
    {
      "cell_type": "markdown",
      "metadata": {
        "id": "rveWjgGc03tm"
      },
      "source": [
        "###Note on Overfitting\n",
        "\n",
        "For the Random Forest, Gradient Boosting, and Logistic regression models, I performed an importance analysis on the feature set to assess if removing the less important features would result in improvements to the respective models.\n",
        "\n",
        "This ended up causing drastic improvements in these models, bringing them near 100% accuracy with a 20% test split. Such high accuracy made me suspicious that the models could be overfitting.\n",
        "\n",
        "To further assess this risk I performed the following steps:\n",
        "- Increased test split. I was able to increase the split up to 80% for Random Forest and up to 95% for Logistic Regression, while still maintaining accuracy scores near 1.00.\n",
        "- I performed 5-fold cross validation and accuracy remained high across all folds for these models.\n",
        "\n",
        "Based on the consistently high evaluation scores across all folds, and when using very small training splits, I feel comfortable that the model is not overfitting. I think there are some clear indicators of heart disease in this dataset which are allowing for such high effectiveness of these models. This particular dataset is also relatively small so I would like to expand testing to a larger dataset in the future."
      ]
    },
    {
      "cell_type": "markdown",
      "metadata": {
        "id": "pSIfy_VSSsUm"
      },
      "source": [
        "##The best model is ..."
      ]
    },
    {
      "cell_type": "markdown",
      "metadata": {
        "id": "RXcsUrbBoQly"
      },
      "source": [
        "In balancing explanatory versus predictive power, I must weigh the ease of interpretation of the chosen model against it's predictive accuracy. A simpler model such as regression is more easily explainable to a broader audience, but not all data fits this type of model. More complex models such as gradient boosting may in many cases be more powerful, but the tradeoff is that they are more difficult to understand and explain without getting overly technical.\n",
        "\n",
        "The practical application of this project is to facilitate earlier detection of heart disease in order to accelerate treatment. Therefore the primary goal is to use these variables to generate an accurate prediction so I would prioritize predictive accuracy for this use case.\n",
        "\n",
        "However, in this instance we have 3 models that perform very well- Random Forest, Gradient Boosting and Logistic Regression. Given that there is not a significant drop in predictive power between the models, I would opt for the most interpretable of the 3, which is Logistic Regression."
      ]
    }
  ]
}